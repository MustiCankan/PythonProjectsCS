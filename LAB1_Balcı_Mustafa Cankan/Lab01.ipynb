{
 "cells": [
  {
   "cell_type": "markdown",
   "metadata": {},
   "source": [
    "<h1>Lab 1<h1>"
   ]
  },
  {
   "cell_type": "markdown",
   "metadata": {},
   "source": [
    "### First Code"
   ]
  },
  {
   "cell_type": "code",
   "execution_count": 38,
   "metadata": {},
   "outputs": [
    {
     "name": "stdout",
     "output_type": "stream",
     "text": [
      "Enter x:2\n",
      "Enter y:3\n",
      "Enter z: 4.5\n",
      "f(2.0,3.0,4.5) = 6.03\n"
     ]
    }
   ],
   "source": [
    "x = float(input('Enter x: '))\n",
    "y = float(input('Enter y: '))\n",
    "z = float(input('Enter z: '))\n",
    "\n",
    "calculation = ((y*z)+x)*((x*y)+z)/(x * y * z)\n",
    "\n",
    "print(f'f({x:2.1f},{y:2.1f},{z:2.1f}) = {calculation:.2f}')"
   ]
  },
  {
   "cell_type": "markdown",
   "metadata": {},
   "source": [
    "### Second Code"
   ]
  },
  {
   "cell_type": "code",
   "execution_count": 39,
   "metadata": {},
   "outputs": [
    {
     "name": "stdout",
     "output_type": "stream",
     "text": [
      "Enter first integer: 5\n",
      "Enter second integer: 8\n",
      "Enter third integer: 4\n",
      "sum of evens is 12\n",
      "even max is 8\n"
     ]
    }
   ],
   "source": [
    "first_int = int(input('Enter first integer: '))\n",
    "second_int = int(input('Enter second integer: ')) \n",
    "third_int = int(input('Enter third integer: '))\n",
    "\n",
    "even_sum = 0\n",
    "even_max = 0\n",
    "even_boolen = False\n",
    "\n",
    "if first_int % 2 == 0:\n",
    "    even_sum += first_int\n",
    "    even_boolen = True\n",
    "    even_max = first_int\n",
    "\n",
    "if second_int % 2 == 0:\n",
    "    even_sum += second_int\n",
    "    even_boolen = True\n",
    "    if second_int > even_max:\n",
    "        even_max = second_int\n",
    "        \n",
    "if third_int % 2 == 0:\n",
    "    even_sum += third_int\n",
    "    even_boolen = True\n",
    "    if third_int > even_max:\n",
    "        even_max = third_int\n",
    "\n",
    "if even_boolen == False:\n",
    "    print('No even integer is entered')\n",
    "else:\n",
    "    print('sum of evens is', even_sum)\n",
    "    print('even max is', even_max)\n"
   ]
  },
  {
   "cell_type": "markdown",
   "metadata": {},
   "source": [
    "### Third Exercise"
   ]
  },
  {
   "cell_type": "code",
   "execution_count": 40,
   "metadata": {},
   "outputs": [
    {
     "name": "stdout",
     "output_type": "stream",
     "text": [
      "Enter first name: Ali\n",
      "Enter second name: Su\n",
      "Enter third name: Ayşe\n",
      "Ayşe's name is the longest\n"
     ]
    }
   ],
   "source": [
    "first_name = input('Enter first name: ')\n",
    "second_name = input('Enter second name: ') \n",
    "third_name = input('Enter third name: ')\n",
    "\n",
    "max_name = ''\n",
    "\n",
    "equaility_bool = False\n",
    "\n",
    "if len(first_name) > len(max_name):\n",
    "    max_name = first_name\n",
    "\n",
    "if len(second_name) > len(max_name):\n",
    "    max_name = second_name\n",
    "elif len(second_name) == len(max_name):\n",
    "    equaility_bool = True\n",
    "\n",
    "if len(third_name) > len(max_name):\n",
    "    max_name = third_name\n",
    "elif len(third_name) == len(max_name):\n",
    "    equaility_bool = True\n",
    "\n",
    "if equaility_bool == False:\n",
    "    print(max_name +\"'\"+\"s name is the longest\")\n",
    "else:\n",
    "    print(max_name +\"'\"+\"s name is the longest, but there is a tie!\")\n"
   ]
  }
 ],
 "metadata": {
  "kernelspec": {
   "display_name": "Python 3",
   "language": "python",
   "name": "python3"
  },
  "language_info": {
   "codemirror_mode": {
    "name": "ipython",
    "version": 3
   },
   "file_extension": ".py",
   "mimetype": "text/x-python",
   "name": "python",
   "nbconvert_exporter": "python",
   "pygments_lexer": "ipython3",
   "version": "3.8.4"
  }
 },
 "nbformat": 4,
 "nbformat_minor": 4
}
