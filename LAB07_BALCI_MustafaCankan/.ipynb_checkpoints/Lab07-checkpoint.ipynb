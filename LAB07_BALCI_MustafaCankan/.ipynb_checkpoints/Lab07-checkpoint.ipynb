{
 "cells": [
  {
   "cell_type": "markdown",
   "metadata": {},
   "source": [
    "<h1>Lab 07<h1> "
   ]
  },
  {
   "cell_type": "code",
   "execution_count": 2,
   "metadata": {},
   "outputs": [
    {
     "ename": "SyntaxError",
     "evalue": "unexpected EOF while parsing (<ipython-input-2-6a0c44b744bc>, line 25)",
     "output_type": "error",
     "traceback": [
      "\u001b[0;36m  File \u001b[0;32m\"<ipython-input-2-6a0c44b744bc>\"\u001b[0;36m, line \u001b[0;32m25\u001b[0m\n\u001b[0;31m    def __init__(self,kms,type_of_cab):\u001b[0m\n\u001b[0m                                       ^\u001b[0m\n\u001b[0;31mSyntaxError\u001b[0m\u001b[0;31m:\u001b[0m unexpected EOF while parsing\n"
     ]
    }
   ],
   "source": [
    "class Cab:\n",
    "    def __init__(self,kms,type_of_cab,year):\n",
    "        self.__kms = kms\n",
    "        self.__type_of_cab = type_of_cab\n",
    "        self.__year \n",
    "    \n",
    "    def get_kms(self):\n",
    "        return self.__kms\n",
    "    \n",
    "    def get_type_of_car(self):\n",
    "        return self.__type_of_cab\n",
    "    \n",
    "    def get_year(self):\n",
    "        return self.__year\n",
    "    \n",
    "    def __qt__(self,other):\n",
    "        return self.__kms > other.__kms\n",
    "    \n",
    "    def __eq__(self,other):\n",
    "        return self.__year == other.get_year() and self.__type_of_cab == other.get_type_of_car()\n",
    "    \n",
    "    def __repr__(self):\n",
    "        print(f\"kms: {self.__kms} type of car {self.__type_of_cab} year : {self.__year}\")\n",
    "    \n",
    "    \n",
    "class Sedan(Cab):\n",
    "    \n",
    "    def __init__(self,kms,type_of_cab):\n",
    "        Cab.__init__()"
   ]
  },
  {
   "cell_type": "code",
   "execution_count": null,
   "metadata": {},
   "outputs": [],
   "source": []
  }
 ],
 "metadata": {
  "kernelspec": {
   "display_name": "Python 3",
   "language": "python",
   "name": "python3"
  },
  "language_info": {
   "codemirror_mode": {
    "name": "ipython",
    "version": 3
   },
   "file_extension": ".py",
   "mimetype": "text/x-python",
   "name": "python",
   "nbconvert_exporter": "python",
   "pygments_lexer": "ipython3",
   "version": "3.8.4"
  }
 },
 "nbformat": 4,
 "nbformat_minor": 4
}
