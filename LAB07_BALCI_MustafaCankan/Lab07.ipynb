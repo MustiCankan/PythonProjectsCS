{
 "cells": [
  {
   "cell_type": "markdown",
   "metadata": {},
   "source": [
    "<h1>Lab 07<h1> "
   ]
  },
  {
   "cell_type": "code",
   "execution_count": 51,
   "metadata": {},
   "outputs": [
    {
     "data": {
      "text/plain": [
       "10000"
      ]
     },
     "execution_count": 51,
     "metadata": {},
     "output_type": "execute_result"
    }
   ],
   "source": [
    "class Cab:\n",
    "    def __init__(self,kms,type_of_cab,year):\n",
    "        self.__kms = kms\n",
    "        self.__type_of_cab = type_of_cab\n",
    "        self.__year = year \n",
    "    \n",
    "    def get_kms(self):\n",
    "        return self.__kms\n",
    "    \n",
    "    def get_type_of_car(self):\n",
    "        return self.__type_of_cab\n",
    "    \n",
    "    def get_year(self):\n",
    "        return self.__year\n",
    "    \n",
    "    def __gt__(self,other):\n",
    "        return self.__year > other.get_year()\n",
    "    \n",
    "    def __eq__(self,other):\n",
    "        return self.__year == other.get_year() and self.__type_of_cab == other.get_type_of_car()\n",
    "    \n",
    "    def __repr__(self):\n",
    "        print(f\"kms: {self.__kms} type of car {self.__type_of_cab} year : {self.__year}\")\n",
    "    \n",
    "    \n",
    "class Sedan(Cab):\n",
    "    def __init__(self,kms,type_of_cab,year):\n",
    "        Cab.__init__(self,kms,type_of_cab,year)\n",
    "        self.__price_per_km = 2.5\n",
    "        \n",
    "    def calculate_fare(self):\n",
    "        return Cab.get_kms(self) * self.__price_per_km\n",
    "    \n",
    "    \n",
    "class Hatchback(Cab):\n",
    "    def __init__(self,kms,type_of_cab,year):\n",
    "        Cab.__init__(self,kms,type_of_cab,year)\n",
    "        self.__price_per_km = 2.2\n",
    "        \n",
    "    def calculate_fare(self):\n",
    "        return Cab.get_kms(self) * self.__price_per_km\n",
    "    \n",
    "    \n",
    "s1 = Sedan(10000,'Sedan',2004)\n",
    "s1.calculate_fare()\n",
    "s1.get_kms()"
   ]
  },
  {
   "cell_type": "markdown",
   "metadata": {},
   "source": [
    "### Script"
   ]
  },
  {
   "cell_type": "code",
   "execution_count": 54,
   "metadata": {},
   "outputs": [
    {
     "name": "stdout",
     "output_type": "stream",
     "text": [
      "Sedan  1 will pay 500.0\n",
      "Sedan  2 will pay 1350.0\n",
      "Sedan  3 will pay 500.0\n",
      "Sedan  4 will pay 50.0\n",
      "Sedan  5 will pay 25.0\n",
      "Sedan  6 will pay 500.0\n",
      "Sedan  7 will pay 500.0\n",
      "Sedan  8 will pay 50.0\n",
      "Sedan  9 will pay 250.0\n",
      "Sedan  10 will pay 50.0\n",
      "Sedan  11 will pay 250.0\n",
      "Sedan  12 will pay 125.0\n",
      "\n",
      "There are 7 Sedan cars newer than 2015.\n",
      "\n",
      "All Hatchback cars of 2020  have travelled 150 kms.\n"
     ]
    }
   ],
   "source": [
    "def read_file(f1):\n",
    "    file_one = open(f1,'r')\n",
    "    l = []\n",
    "    for line in file_one:\n",
    "        l_split = line.split(';')\n",
    "        if l_split[0] == \"Sedan\":\n",
    "            l.append(Sedan(int(l_split[1]),l_split[0],int(l_split[2])))\n",
    "        elif l_split[0] == \"Hatchback\":\n",
    "            l.append(Hatchback(int(l_split[1]),l_split[0],int(l_split[2])))\n",
    "    return l\n",
    "\n",
    "def find_greater(l,cab,year):\n",
    "    counter_year = 0\n",
    "    temp_km = 0\n",
    "    for i in l:\n",
    "        if cab == 'Sedan':\n",
    "            if i.get_type_of_car() == cab and i > s1:\n",
    "                counter_year += 1\n",
    "        elif cab == \"Hatchback\":\n",
    "            if i == h1 :\n",
    "                temp_km += i.get_kms()\n",
    "    if cab == 'Sedan':\n",
    "        return f'There are {counter_year} {cab} cars newer than 2015.'\n",
    "    else:\n",
    "        return f'All {cab} cars of {year}  have travelled {temp_km} kms.'\n",
    "    \n",
    "    \n",
    "list_cars = read_file(\"cabs.txt\")\n",
    "counter = 1\n",
    "cab = Hatchback(10000,'Hatchback',2020)\n",
    "s1 = Sedan(10000,'Sedan',2015)\n",
    "for i in range(len(list_cars)):\n",
    "    if list_cars[i].get_type_of_car() == \"Sedan\":\n",
    "        print(\"Sedan \",counter, \"will pay\",list_cars[i].calculate_fare())\n",
    "        counter += 1\n",
    "        \n",
    "print(\"\")\n",
    "        \n",
    "print(find_greater(list_cars,\"Sedan\",2015))\n",
    "\n",
    "print(\"\")\n",
    "\n",
    "print(find_greater(list_cars,\"Hatchback\",2020))"
   ]
  },
  {
   "cell_type": "code",
   "execution_count": null,
   "metadata": {},
   "outputs": [],
   "source": []
  },
  {
   "cell_type": "code",
   "execution_count": null,
   "metadata": {},
   "outputs": [],
   "source": []
  }
 ],
 "metadata": {
  "kernelspec": {
   "display_name": "Python 3",
   "language": "python",
   "name": "python3"
  },
  "language_info": {
   "codemirror_mode": {
    "name": "ipython",
    "version": 3
   },
   "file_extension": ".py",
   "mimetype": "text/x-python",
   "name": "python",
   "nbconvert_exporter": "python",
   "pygments_lexer": "ipython3",
   "version": "3.8.4"
  }
 },
 "nbformat": 4,
 "nbformat_minor": 4
}
