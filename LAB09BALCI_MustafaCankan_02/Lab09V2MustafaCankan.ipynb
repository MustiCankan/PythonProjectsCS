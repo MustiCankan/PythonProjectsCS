{
 "cells": [
  {
   "cell_type": "code",
   "execution_count": null,
   "id": "47ce0b1b",
   "metadata": {},
   "outputs": [],
   "source": [
    "# CS115 Lab 09 Questions Mustafa cankan BALCI"
   ]
  },
  {
   "cell_type": "markdown",
   "id": "8277cf2a",
   "metadata": {},
   "source": [
    "## *Question 01*"
   ]
  },
  {
   "cell_type": "markdown",
   "id": "65673d59",
   "metadata": {},
   "source": [
    "Import numpy"
   ]
  },
  {
   "cell_type": "code",
   "execution_count": 2,
   "id": "1a20a8e3",
   "metadata": {},
   "outputs": [],
   "source": [
    "import numpy as np"
   ]
  },
  {
   "cell_type": "markdown",
   "id": "a3949765",
   "metadata": {},
   "source": [
    "a.\tLoad the data from the file covid_data.txt into a numpy array, covid_data. \n",
    "b.\tLoad the data from the file covid_country.txt into a numpy array, covid_country. "
   ]
  },
  {
   "cell_type": "code",
   "execution_count": 4,
   "id": "85d28202",
   "metadata": {},
   "outputs": [],
   "source": [
    "arr_data = np.loadtxt(\"covid_data.txt\")\n",
    "arr_country = np.loadtxt(\"covid_country.txt\",dtype=str,skiprows=1)"
   ]
  },
  {
   "cell_type": "markdown",
   "id": "1c9237e0",
   "metadata": {},
   "source": [
    "c.\tTranspose and update the covid_data array."
   ]
  },
  {
   "cell_type": "code",
   "execution_count": 5,
   "id": "3ae2dbe9",
   "metadata": {},
   "outputs": [
    {
     "data": {
      "text/plain": [
       "array([[1.51940e+04, 4.92000e+02, 1.90640e+05],\n",
       "       [1.37160e+04, 4.64000e+02, 6.20850e+04],\n",
       "       [1.46600e+03, 3.00000e+01, 1.60350e+04],\n",
       "       [5.97400e+03, 1.00000e+02, 2.03623e+05],\n",
       "       [9.06300e+03, 1.62000e+02, 5.30440e+04],\n",
       "       [3.58500e+03, 3.91000e+02, 8.18900e+03],\n",
       "       [1.37930e+04, 6.19000e+02, 7.55210e+04],\n",
       "       [1.91650e+04, 5.17000e+02, 9.20220e+04],\n",
       "       [7.02300e+03, 2.34000e+02, 3.53740e+04],\n",
       "       [7.58200e+03, 6.10000e+02, 1.51087e+05],\n",
       "       [3.80600e+03, 2.14000e+02, 3.10680e+04],\n",
       "       [4.53700e+03, 6.83000e+02, 2.57873e+05],\n",
       "       [8.15200e+03, 8.80000e+01, 1.04277e+05],\n",
       "       [1.27400e+03, 2.70000e+01, 9.30400e+03],\n",
       "       [1.51400e+03, 2.00000e+01, 7.43200e+03],\n",
       "       [4.12200e+03, 5.82000e+02, 1.17443e+05],\n",
       "       [2.81000e+03, 6.90000e+01, 6.01910e+04],\n",
       "       [5.04400e+03, 9.40000e+01, 1.75640e+04],\n",
       "       [2.56800e+03, 1.10000e+02, 1.02452e+05],\n",
       "       [2.99600e+03, 4.64000e+02, 6.11470e+04],\n",
       "       [3.48800e+03, 1.28000e+02, 2.71110e+04],\n",
       "       [1.08900e+03, 2.00000e+01, 1.52200e+04],\n",
       "       [4.34000e+02, 2.00000e+01, 5.96500e+03],\n",
       "       [3.13900e+03, 2.37000e+02, 1.14339e+05],\n",
       "       [3.99220e+04, 6.30000e+01, 1.81993e+05],\n",
       "       [5.10400e+03, 5.60000e+01, 1.15099e+05],\n",
       "       [9.27000e+02, 4.80000e+01, 1.31700e+03],\n",
       "       [5.12400e+03, 3.33000e+02, 1.46350e+04],\n",
       "       [7.39400e+03, 2.96000e+02, 1.57060e+04],\n",
       "       [8.11100e+03, 5.71000e+02, 8.54290e+04],\n",
       "       [1.57690e+04, 9.60000e+01, 6.04110e+04],\n",
       "       [8.65000e+03, 6.30000e+01, 2.03581e+05],\n",
       "       [1.75700e+03, 4.20000e+01, 2.55490e+04],\n",
       "       [7.04800e+03, 1.15000e+02, 2.59630e+04],\n",
       "       [1.65270e+04, 3.64000e+02, 5.57690e+04],\n",
       "       [6.13700e+03, 8.50000e+02, 1.52407e+05],\n",
       "       [1.63780e+04, 1.10000e+02, 1.22105e+05],\n",
       "       [7.25000e+03, 6.10000e+01, 1.42269e+05],\n",
       "       [6.24600e+03, 3.60000e+01, 5.31470e+05],\n",
       "       [3.01200e+03, 1.33000e+02, 6.86310e+04],\n",
       "       [3.32500e+03, 3.59000e+02, 6.30070e+04],\n",
       "       [9.31800e+03, 5.00000e+00, 2.51817e+05],\n",
       "       [3.02800e+03, 1.18000e+02, 9.62400e+03],\n",
       "       [5.10700e+03, 1.71000e+02, 1.67308e+05],\n",
       "       [1.30800e+03, 4.70000e+01, 6.27520e+04],\n",
       "       [2.19000e+02, 5.00000e+00, 1.48500e+03],\n",
       "       [4.54600e+03, 1.43000e+02, 1.10180e+04],\n",
       "       [2.51300e+04, 9.10000e+01, 5.13691e+05],\n",
       "       [3.34000e+02, 8.00000e+00, 7.42500e+03],\n",
       "       [1.34350e+04, 2.60000e+02, 5.78980e+04],\n",
       "       [1.27300e+03, 6.00000e+00, 1.30350e+04],\n",
       "       [5.91600e+03, 2.21000e+02, 4.09700e+04],\n",
       "       [9.46000e+02, 3.30000e+01, 2.31700e+03],\n",
       "       [4.16900e+03, 2.29000e+02, 9.49970e+04],\n",
       "       [3.27600e+03, 4.70000e+01, 7.54990e+04],\n",
       "       [8.02000e+02, 1.20000e+01, 3.74480e+04],\n",
       "       [8.45000e+02, 5.00000e+00, 4.11120e+04],\n",
       "       [3.12900e+03, 7.10000e+01, 8.27990e+04],\n",
       "       [6.60300e+03, 2.05000e+02, 3.17570e+04],\n",
       "       [5.33500e+03, 3.58000e+02, 1.32084e+05],\n",
       "       [4.53000e+02, 7.00000e+00, 6.22300e+03],\n",
       "       [7.84000e+02, 7.00000e+00, 5.51380e+04],\n",
       "       [7.45000e+02, 2.00000e+00, 2.50790e+04],\n",
       "       [2.40800e+03, 8.00000e+01, 1.04008e+05],\n",
       "       [4.13200e+03, 3.90000e+01, 1.88500e+04],\n",
       "       [1.81000e+02, 3.00000e+00, 4.06900e+03],\n",
       "       [7.79000e+02, 1.00000e+01, 1.81419e+05],\n",
       "       [2.94700e+03, 7.90000e+01, 3.87200e+04],\n",
       "       [1.65500e+03, 3.60000e+01, 6.80300e+04],\n",
       "       [6.66000e+02, 1.50000e+01, 5.60000e+03],\n",
       "       [6.22000e+02, 4.00000e+00, 3.95600e+03],\n",
       "       [2.83000e+02, 6.00000e+00, 3.14710e+04],\n",
       "       [2.46900e+03, 1.06000e+02, 2.85542e+05],\n",
       "       [2.62100e+03, 1.80000e+01, 3.91760e+04],\n",
       "       [4.08600e+03, 1.17000e+02, 4.48420e+04],\n",
       "       [1.87400e+03, 6.30000e+01, 4.23580e+04],\n",
       "       [4.51000e+02, 5.00000e+00, 1.66800e+03],\n",
       "       [2.68000e+02, 1.70000e+01, 9.00000e+00],\n",
       "       [5.47100e+03, 2.48000e+02, 5.27730e+04],\n",
       "       [6.38000e+02, 1.30000e+01, 6.83800e+03],\n",
       "       [1.74500e+03, 4.70000e+01, 8.71520e+04],\n",
       "       [2.79000e+02, 4.00000e+00, 3.05910e+04],\n",
       "       [2.71460e+04, 1.57000e+02, 1.38324e+05],\n",
       "       [3.49100e+03, 2.30000e+01, 3.82720e+04],\n",
       "       [5.82000e+02, 4.00000e+00, 1.09400e+03],\n",
       "       [6.61000e+02, 1.50000e+01, 1.61600e+03],\n",
       "       [1.35900e+03, 6.00000e+01, 7.02870e+04],\n",
       "       [3.89000e+02, 1.10000e+01, 4.90000e+03],\n",
       "       [1.12820e+04, 1.90000e+02, 9.95282e+05],\n",
       "       [1.38300e+03, 3.40000e+01, 1.23130e+04],\n",
       "       [8.93000e+02, 9.00000e+00, 1.89430e+04],\n",
       "       [2.09100e+03, 6.50000e+01, 1.35530e+04],\n",
       "       [8.31000e+02, 1.00000e+01, 5.06090e+04],\n",
       "       [1.31700e+03, 3.80000e+01, 3.05460e+04],\n",
       "       [5.38700e+03, 6.00000e+01, 6.05520e+04],\n",
       "       [4.92000e+02, 2.00000e+01, 5.94560e+04],\n",
       "       [7.09000e+02, 1.60000e+01, 8.67700e+03],\n",
       "       [3.42600e+03, 5.90000e+01, 3.15250e+04],\n",
       "       [8.64300e+03, 3.50000e+01, 1.58071e+05],\n",
       "       [9.55000e+02, 1.20000e+01, 6.11600e+03],\n",
       "       [4.76000e+02, 6.20000e+01, 3.65040e+04],\n",
       "       [2.34000e+02, 7.00000e+00, 1.74500e+03],\n",
       "       [2.92000e+02, 6.00000e+00, 9.43400e+03],\n",
       "       [5.13000e+02, 6.00000e+00, 9.22870e+04],\n",
       "       [5.54100e+03, 9.60000e+01, 6.11820e+04],\n",
       "       [4.80000e+01, 8.00000e-01, 1.07310e+04],\n",
       "       [1.11260e+04, 1.43000e+02, 4.75460e+04],\n",
       "       [2.55600e+03, 4.70000e+01, 1.78960e+04],\n",
       "       [1.33000e+02, 5.00000e-01, 7.78300e+03],\n",
       "       [2.45000e+02, 8.00000e+00, 2.52050e+04],\n",
       "       [4.91200e+03, 4.90000e+01, 1.10735e+05],\n",
       "       [1.04200e+03, 6.00000e+00, 1.14850e+04],\n",
       "       [1.26000e+02, 6.00000e+00, 1.23900e+03],\n",
       "       [4.54000e+02, 5.00000e+00, 4.98770e+04],\n",
       "       [2.19000e+02, 4.00000e+00, 1.07500e+03],\n",
       "       [1.06900e+03, 6.00000e+01, 6.52740e+04],\n",
       "       [7.99000e+02, 3.00000e+01, 1.98955e+05],\n",
       "       [1.60100e+03, 4.70000e+01, 9.26260e+04],\n",
       "       [6.80000e+01, 5.00000e-01, 2.07900e+03],\n",
       "       [1.63000e+02, 4.00000e-01, 2.20510e+04],\n",
       "       [3.57000e+03, 4.90000e+01, 4.74300e+03],\n",
       "       [1.03000e+03, 1.40000e+01, 7.61000e+02],\n",
       "       [1.59000e+02, 3.00000e+00, 7.70900e+03],\n",
       "       [5.65200e+03, 2.90000e+01, 4.38385e+05],\n",
       "       [1.39000e+02, 4.00000e+00, 8.47800e+03],\n",
       "       [3.14000e+02, 4.00000e+00, 9.73480e+04],\n",
       "       [4.50000e+01, 2.00000e+00, 1.96500e+03],\n",
       "       [3.79000e+02, 1.10000e+01, 3.65350e+04],\n",
       "       [6.77000e+02, 1.70000e+01, 1.10359e+05],\n",
       "       [1.21000e+02, 1.00000e+00, 6.15620e+04],\n",
       "       [2.70000e+01, 1.00000e-01, 6.28700e+03],\n",
       "       [1.00000e+03, 1.60000e+01, 1.79267e+05],\n",
       "       [3.02000e+02, 4.00000e+00, 6.02940e+04],\n",
       "       [4.70000e+01, 3.00000e+00, 3.73000e+02],\n",
       "       [1.22000e+02, 3.00000e+00, 5.51600e+03],\n",
       "       [3.23000e+02, 4.00000e+00, 1.41230e+04],\n",
       "       [2.14200e+03, 2.00000e+01, 3.09541e+05],\n",
       "       [1.22160e+04, 6.73000e+02, 4.85260e+04],\n",
       "       [3.86000e+02, 7.00000e+00, 2.13900e+03],\n",
       "       [3.99900e+03, 6.80000e+01, 1.40250e+04],\n",
       "       [3.41000e+02, 8.00000e-01, 2.90410e+04],\n",
       "       [1.93300e+03, 3.60000e+01, 1.22300e+04],\n",
       "       [8.00000e+00, 1.00000e-01, 4.95200e+03],\n",
       "       [3.46000e+02, 1.10000e+01, 4.09100e+03],\n",
       "       [2.05960e+04, 1.23800e+03, 1.78797e+05],\n",
       "       [7.49000e+02, 6.00000e+00, 3.95320e+04],\n",
       "       [3.43100e+03, 2.70000e+02, 1.76535e+05],\n",
       "       [6.84000e+02, 2.80000e+01, 6.56300e+03],\n",
       "       [2.00000e+01, 3.00000e-01, 3.47300e+03],\n",
       "       [3.30000e+01, 8.00000e-02, 1.31000e+03],\n",
       "       [7.00000e+00, 1.00000e-01, 2.24600e+03],\n",
       "       [2.70000e+02, 8.00000e+00, 1.61389e+05],\n",
       "       [3.94900e+03, 2.82000e+02, 1.01401e+05],\n",
       "       [6.97000e+02, 3.50000e+01, 4.61750e+04],\n",
       "       [7.36000e+02, 4.00000e+01, 3.25850e+04],\n",
       "       [2.46200e+03, 2.80000e+01, 1.31511e+05],\n",
       "       [1.50000e+02, 6.00000e+00, 6.82800e+03],\n",
       "       [3.08500e+03, 1.50000e+01, 4.72780e+05],\n",
       "       [1.80000e+01, 3.00000e-01, 1.20600e+03],\n",
       "       [3.72800e+03, 3.73000e+02, 2.59760e+04],\n",
       "       [2.52200e+03, 1.45000e+02, 4.23298e+05],\n",
       "       [3.22000e+02, 7.00000e+00, 9.39680e+04],\n",
       "       [4.63000e+02, 2.40000e+01, 4.25630e+04],\n",
       "       [3.32700e+03, 5.20000e+01, 3.22950e+04],\n",
       "       [3.18300e+03, 1.02000e+02, 9.72982e+05],\n",
       "       [9.39000e+02, 3.10000e+01, 1.53050e+04],\n",
       "       [2.33400e+03, 2.60000e+01, 2.35980e+04],\n",
       "       [2.16000e+02, 5.00000e+00, 9.23600e+03],\n",
       "       [1.36800e+03, 7.70000e+01, 3.05460e+04],\n",
       "       [1.89000e+02, 6.00000e+00, 6.57900e+03],\n",
       "       [3.00000e+01, 1.00000e+00, 7.46100e+03],\n",
       "       [2.60400e+03, 2.00000e+02, 1.22200e+04]])"
      ]
     },
     "execution_count": 5,
     "metadata": {},
     "output_type": "execute_result"
    }
   ],
   "source": [
    "arr_data = arr_data.T\n",
    "arr_data\n"
   ]
  },
  {
   "cell_type": "markdown",
   "id": "b6c04282",
   "metadata": {},
   "source": [
    "d.\tCalculate and display the maximum tests per 1 million."
   ]
  },
  {
   "cell_type": "code",
   "execution_count": 174,
   "id": "c425104d",
   "metadata": {},
   "outputs": [
    {
     "name": "stdout",
     "output_type": "stream",
     "text": [
      "Maximum test per 1 million: 995282.0\n"
     ]
    }
   ],
   "source": [
    "arr_test = arr_data[:,2]\n",
    "test_max = arr_test.max()\n",
    "print(\"Maximum test per 1 million:\",test_max)"
   ]
  },
  {
   "cell_type": "markdown",
   "id": "05ae7c5e",
   "metadata": {},
   "source": [
    "e.\tDisplay the names of the countries in Asia."
   ]
  },
  {
   "cell_type": "code",
   "execution_count": 175,
   "id": "ad130637",
   "metadata": {},
   "outputs": [
    {
     "name": "stdout",
     "output_type": "stream",
     "text": [
      "Countries in Asia: ['India' 'Iran' 'Saudi_Arabia' 'Pakistan' 'Bangladesh' 'Turkey' 'Iraq'\n",
      " 'Philippines' 'Indonesia' 'Qatar' 'Kazakhstan' 'Oman' 'Israel' 'Kuwait'\n",
      " 'UAE' 'Singapore' 'Bahrain' 'Japan' 'Armenia' 'Kyrgyzstan' 'Afghanistan'\n",
      " 'Azerbaijan' 'Uzbekistan' 'Nepal' 'South_Korea' 'Palestine' 'Malaysia'\n",
      " 'Lebanon' 'Maldives' 'Hong_Kong' 'Thailand' 'Sri_Lanka' 'Jordan' 'Cyprus'\n",
      " 'Georgia' 'Vietnam' 'Taiwan' 'Myanmar' 'Brunei']\n"
     ]
    }
   ],
   "source": [
    "country_asia = arr_country[:,1] == 'Asia'\n",
    "country_asia = arr_country[country_asia,0]\n",
    "\n",
    "print(\"Countries in Asia:\",country_asia)"
   ]
  },
  {
   "cell_type": "markdown",
   "id": "8c4cfae3",
   "metadata": {},
   "source": [
    "f.\tDisplay the names of the countries with death numbers less than 50"
   ]
  },
  {
   "cell_type": "code",
   "execution_count": 177,
   "id": "1d4a707f",
   "metadata": {},
   "outputs": [
    {
     "name": "stdout",
     "output_type": "stream",
     "text": [
      "Countries with less than 50 deaths per 1 million:\n",
      " [['India' 'Pakistan' 'Bangladesh' 'Philippines' 'Indonesia' 'Egypt'\n",
      "  'Ukraine' 'UAE' 'Singapore' 'Poland' 'Nigeria' 'Japan' 'Ghana'\n",
      "  'Afghanistan' 'Azerbaijan' 'Morocco' 'Uzbekistan' 'Kenya' 'Venezuela'\n",
      "  'Nepal' 'Costa_Rica' 'Ethiopia' 'Australia' 'Czechia' 'Cameroon'\n",
      "  'Ivory_Coast' 'South_Korea' 'Palestine' 'Madagascar' 'Sudan' 'Senegal'\n",
      "  'Norway' 'Malaysia' 'Gabon' 'Guinea' 'Haiti' 'Zambia' 'Mauritania'\n",
      "  'Paraguay' 'Lebanon' 'Croatia' 'Greece' 'Libya' 'Maldives' 'CAR'\n",
      "  'Malawi' 'Zimbabwe' 'Hong_Kong' 'Thailand' 'Eswatini' 'Sri_Lanka'\n",
      "  'Cuba' 'Cabo_Verde' 'Namibia' 'Mali' 'Slovakia' 'South_Sudan'\n",
      "  'Lithuania' 'Estonia' 'Mozambique' 'Rwanda' 'Suriname' 'Guinea-Bissau'\n",
      "  'Benin' 'Iceland' 'Tunisia' 'New_Zealand' 'Angola' 'Uruguay' 'Latvia'\n",
      "  'Jordan' 'Uganda' 'Cyprus' 'Georgia' 'Niger' 'Togo' 'Jamaica' 'Malta'\n",
      "  'Gambia' 'Botswana' 'Bahamas' 'Vietnam' 'Lesotho' 'Reunion' 'Guyana'\n",
      "  'Taiwan' 'Burundi' 'Myanmar' 'Mauritius' 'Guadeloupe' 'Martinique'\n",
      "  'Aruba' 'Trinidad_Tobago' 'Cayman_Islands' 'Papua_New_Guinea' 'Brunei'\n",
      "  'Barbados' 'Antigua_Barbuda' 'Liechtenstein' 'Belize' 'Curacao' 'Fiji']]\n"
     ]
    }
   ],
   "source": [
    "country_lower = np.where(arr_data[:,1] <= 50)\n",
    "country_lower = arr_country[country_lower,0]\n",
    "print(\"Countries with less than 50 deaths per 1 million:\\n\",country_lower)"
   ]
  },
  {
   "cell_type": "markdown",
   "id": "bf9c28ce",
   "metadata": {},
   "source": [
    "g.\tCalculate and display the average cases per 1 million for Europe."
   ]
  },
  {
   "cell_type": "code",
   "execution_count": 15,
   "id": "52700475",
   "metadata": {},
   "outputs": [
    {
     "name": "stdout",
     "output_type": "stream",
     "text": [
      "Average cases per 1 million in Europe: 4075.3555555555554\n"
     ]
    }
   ],
   "source": [
    "country_eu = np.where(arr_country[:,1] == 'Europe')\n",
    "mean_europe_case = arr_data[country_eu,0].mean()\n",
    "print(\"Average cases per 1 million in Europe:\", mean_europe_case)"
   ]
  },
  {
   "cell_type": "markdown",
   "id": "66e7be8c",
   "metadata": {},
   "source": [
    "h.\tDisplay the name of the countr(ies) with the minimum total cases per million in Europe(note: there may be more than one country with the same minimum total cases per million in Europe."
   ]
  },
  {
   "cell_type": "code",
   "execution_count": 198,
   "id": "dd32853e",
   "metadata": {},
   "outputs": [
    {
     "name": "stdout",
     "output_type": "stream",
     "text": [
      "Country with minimum total cases per 1 million in Europe: Slovakia\n"
     ]
    }
   ],
   "source": [
    "min_europe_case = arr_data[country_eu,0].argmin()\n",
    "min_europe_case_country = arr_country[country_eu][min_europe_case][0]\n",
    "print(\"Country with minimum total cases per 1 million in Europe:\",min_europe_case_country)\n"
   ]
  },
  {
   "cell_type": "markdown",
   "id": "121c6e44",
   "metadata": {},
   "source": [
    "i.\tCreate a new array, test_result, where the first column contains country names, and the second column contains the deaths per 1 million. Hint: your new array should have 2 columns and 172 rows, not 172 columns and 2 rows."
   ]
  },
  {
   "cell_type": "code",
   "execution_count": 12,
   "id": "50b6138c",
   "metadata": {},
   "outputs": [],
   "source": [
    "arr_country_name = arr_country[:,0]\n",
    "arr_death = arr_data[:,1]\n",
    "test_result = np.concatenate([arr_country_name,arr_death])\n"
   ]
  },
  {
   "cell_type": "markdown",
   "id": "889ab60f",
   "metadata": {},
   "source": [
    "j.\tOutput the data in test_result to a file, test_result.txt."
   ]
  },
  {
   "cell_type": "code",
   "execution_count": 14,
   "id": "f5c7a475",
   "metadata": {},
   "outputs": [],
   "source": [
    "np.savetxt('test_result.txt',test_result,fmt=\"%s\")"
   ]
  }
 ],
 "metadata": {
  "kernelspec": {
   "display_name": "Python 3",
   "language": "python",
   "name": "python3"
  },
  "language_info": {
   "codemirror_mode": {
    "name": "ipython",
    "version": 3
   },
   "file_extension": ".py",
   "mimetype": "text/x-python",
   "name": "python",
   "nbconvert_exporter": "python",
   "pygments_lexer": "ipython3",
   "version": "3.7.7"
  }
 },
 "nbformat": 4,
 "nbformat_minor": 5
}
