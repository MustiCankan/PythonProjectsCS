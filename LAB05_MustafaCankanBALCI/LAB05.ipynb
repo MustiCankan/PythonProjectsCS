{
 "cells": [
  {
   "cell_type": "markdown",
   "metadata": {},
   "source": [
    "<h1>Lab 05<h1>"
   ]
  },
  {
   "cell_type": "code",
   "execution_count": 10,
   "metadata": {},
   "outputs": [
    {
     "name": "stdout",
     "output_type": "stream",
     "text": [
      "{2000: ['Aqua Teen Hunger Force: Vol. 1', \"By Dawn's Early Light\", \"Bruce Lee: A Warrior's Journey\", 'Chump Change', 'Ferngully 2: The Magical Rescue', 'G3: Live in Concert', 'Horror Vision', 'Love Reinvented', 'Lost in the Pershing Point Hotel', 'Magnolia: Bonus Material', 'X: The Movie'], 2003: [\"Ashtanga Yoga: Beginner's Practice with Nicki Doane\", 'Dinosaur Planet', 'Daydream Obsession', 'Devo: The Complete Truth About De-evolution', 'Enigma: MCMXC A.D', 'Lord of the Rings: The Return of the King: Extended Edition: Bonus Material', 'One Last Dance', 'The Bonesetter', 'Vampire Effect (aka Twins Effect)', 'Viva La Bam: Season 1', 'WWE: Armageddon 2003', 'X2: X-Men United', \"Zakk Wylde's Black Label Society: Boozed\"], 1941: ['A Yank in the R.A.F.'], 1974: ['At Home Among Strangers', 'Herbie Rides Again'], 2001: ['Boycott', \"Clifford: Clifford Saves the Day! / Clifford's Fluffiest Friend Cleo\", 'Fighter', 'Firetrap', 'Home Movie', 'Justice League', 'Outside the Law', 'Onmyoji', 'Xena: Warrior Princess: Series Finale'], 1989: ['Barbarian Queen 2'], 2004: ['Bear Cub', 'Goddess of Mercy', 'Isle of Man TT 2004 Review', 'Invader Zim', 'Kill Bill: Vol. 2', 'Never Die Alone', 'Notre Musique', 'Pitcher and the Pin-Up', 'Plain Dirty', 'The Rise and Fall of ECW', 'Unconstitutional: The War on Our Civil Liberties', 'What the #$*! Do We Know!?'], 1997: ['Character', 'Grind', 'Inspector Morse 31: Death Is Now My Neighbour', 'King of the Hill: Season 1', 'Sick', 'Vampire Journals', 'Zeus and Roxanne'], 1991: [\"Class of Nuke 'Em High 2\", \"Ken Burns' America: Empire of the Air\"], 1999: ['Classic Albums: Meat Loaf: Bat Out of Hell', 'Full Frame: Documentary Shorts', 'Ricky Martin: One Night Only', 'The Love Letter'], 1996: ['Dragonheart', 'Henry: Portrait of a Serial Killer 2', 'Jingle All the Way', 'No Way Back', 'Screamers', 'Unhook the Stars', \"You're Invited to Mary-Kate and Ashley's Vacation Parties\", 'Young and Dangerous 2'], 1954: ['Davy Crockett: 50th Anniversary Double Feature'], 2005: ['Elfen Lied', 'Up and Down', 'Voyage to the Planets and Beyond', 'WWE: Royal Rumble 2005'], 2002: [\"ECW: Cyberslam '99\", 'Evelyn', 'Jonah: A VeggieTales Movie: Bonus Material', 'Lilo and Stitch', 'Mostly Martha', 'Obsessed', 'Pressure', 'Strange Relations', 'The Weather Underground', 'Venus Boyz'], 1994: ['Ed Wood', 'Immortal Beloved', 'Oleanna', \"Paula Abdul's Get Up & Dance\", 'X2000: The Collected Shorts of Francois Ozon'], 1987: ['Fatal Beauty', 'Unsolved Mysteries: Psychics'], 1998: ['GTO: Great Teacher Onizuka: Set 2', 'King Cobra', 'Record of Lodoss War: Chronicles of the Heroic Knight', 'Yellow', 'Zakhm'], 1978: ['Get Out Your Handkerchiefs'], 1992: ['Husbands and Wives', 'Kuffs', 'Lady Chatterley', 'Yu Yu Hakusho'], 1952: ['I Love Lucy: Season 2', 'The Bad and the Beautiful', \"We're Not Married\"], 1995: ['Jade', 'Maya Lin: A Strong Clear Vision', 'Richard III', 'Xena: Warrior Princess: Season 3'], 1968: ['John Cleese on How to Irritate People', 'Quatermass and the Pit'], 1947: ['My Favorite Brunette'], 1981: ['My Bloody Valentine', 'Zorro'], 1982: ['Nature: Antarctica', 'Querelle', 'Quest for Fire', 'Qurbani'], 1988: ['Neil Diamond: Greatest Hits Live', 'Young Einstein'], 1950: ['Panic in the Streets'], 1975: ['Queen of the Stardust Ballroom'], 1964: ['Rudolph the Red-Nosed Reindeer'], 1985: ['Rambo: First Blood Part II'], 1972: ['Seeta Aur Geeta'], 1962: [\"Sesame Street: Elmo's World: The Street We Live On\"], 1993: ['Untamed Heart'], 1979: ['Winter Kills'], 1973: [\"Zatoichi's Conspiracy\"]}\n"
     ]
    }
   ],
   "source": [
    "def load_movies(file_movies):\n",
    "    \n",
    "    hs = {}\n",
    "    \n",
    "    for line in file_movies:\n",
    "        list_file_movies = line.split(\",\")\n",
    "        movie_year = int(list_file_movies[0])\n",
    "        movie = list_file_movies[1][:-1]\n",
    "        if movie_year in hs:\n",
    "            hs[movie_year].append(movie)\n",
    "        else:\n",
    "            hs[movie_year] = [movie]\n",
    "    return hs \n",
    "\n",
    "\n",
    "\n",
    "\n",
    "file_movies = open('movie_data.csv',\"r\")\n",
    "print(load_movies(file_movies))\n",
    "file_movies.close()"
   ]
  },
  {
   "cell_type": "code",
   "execution_count": 13,
   "metadata": {},
   "outputs": [
    {
     "name": "stdout",
     "output_type": "stream",
     "text": [
      "Enter year to search: 2005\n",
      "['Elfen Lied', 'Up and Down', 'Voyage to the Planets and Beyond', 'WWE: Royal Rumble 2005']\n"
     ]
    }
   ],
   "source": [
    "def get_movies_by_year(hs_movie, year):\n",
    "    if year in hs_movie:\n",
    "        return hs_movie[year]\n",
    "    else:\n",
    "        return[]\n",
    "    \n",
    "file_movies = open('movie_data.csv',\"r\")\n",
    "enter_year = int(input(\"Enter year to search: \"))\n",
    "print(get_movies_by_year(load_movies(file_movies),enter_year))\n",
    "file_movies.close()  "
   ]
  },
  {
   "cell_type": "code",
   "execution_count": 14,
   "metadata": {},
   "outputs": [
    {
     "name": "stdout",
     "output_type": "stream",
     "text": [
      "Enter keyword to search: and\n",
      "[(2004, 'Pitcher and the Pin-Up'), (2004, 'The Rise and Fall of ECW'), (1997, 'Zeus and Roxanne'), (1996, \"You're Invited to Mary-Kate and Ashley's Vacation Parties\"), (1996, 'Young and Dangerous 2'), (2005, 'Up and Down'), (2005, 'Voyage to the Planets and Beyond'), (2002, 'Lilo and Stitch'), (1978, 'Get Out Your Handkerchiefs'), (1992, 'Husbands and Wives'), (1952, 'The Bad and the Beautiful'), (1968, 'Quatermass and the Pit')]\n"
     ]
    }
   ],
   "source": [
    "def get_movies_by_keyword(hs_movie, enter_val):\n",
    "    list_tuple = []\n",
    "    for year in hs_movie:\n",
    "        for movie_name in hs_movie[year]:\n",
    "            search = movie_name.find(enter_val)\n",
    "            if search != -1:\n",
    "                list_tuple.append((year, movie_name))\n",
    "    return list_tuple\n",
    "\n",
    "file_movies = open('movie_data.csv',\"r\")\n",
    "enter_value = input(\"Enter keyword to search: \")\n",
    "print(get_movies_by_keyword(load_movies(file_movies),enter_value))\n",
    "file_movies.close()  \n",
    "    "
   ]
  },
  {
   "cell_type": "code",
   "execution_count": 15,
   "metadata": {},
   "outputs": [
    {
     "name": "stdout",
     "output_type": "stream",
     "text": [
      "Enter keyword to search: and\n",
      "(2004, 'Pitcher and the Pin-Up')\n",
      "(2004, 'The Rise and Fall of ECW')\n",
      "(1997, 'Zeus and Roxanne')\n",
      "(1996, \"You're Invited to Mary-Kate and Ashley's Vacation Parties\")\n",
      "(1996, 'Young and Dangerous 2')\n",
      "(2005, 'Up and Down')\n",
      "(2005, 'Voyage to the Planets and Beyond')\n",
      "(2002, 'Lilo and Stitch')\n",
      "(1978, 'Get Out Your Handkerchiefs')\n",
      "(1992, 'Husbands and Wives')\n",
      "(1952, 'The Bad and the Beautiful')\n",
      "(1968, 'Quatermass and the Pit')\n"
     ]
    }
   ],
   "source": [
    "def print_list(enter_list):\n",
    "    for i in enter_list:\n",
    "        print(i)\n",
    "        \n",
    "file_movies = open('movie_data.csv',\"r\")\n",
    "enter_value = input(\"Enter keyword to search: \")\n",
    "print_list(get_movies_by_keyword(load_movies(file_movies),enter_value))\n",
    "file_movies.close() "
   ]
  },
  {
   "cell_type": "code",
   "execution_count": null,
   "metadata": {},
   "outputs": [],
   "source": []
  }
 ],
 "metadata": {
  "interpreter": {
   "hash": "aee8b7b246df8f9039afb4144a1f6fd8d2ca17a180786b69acc140d282b71a49"
  },
  "kernelspec": {
   "display_name": "Python 3",
   "language": "python",
   "name": "python3"
  },
  "language_info": {
   "codemirror_mode": {
    "name": "ipython",
    "version": 3
   },
   "file_extension": ".py",
   "mimetype": "text/x-python",
   "name": "python",
   "nbconvert_exporter": "python",
   "pygments_lexer": "ipython3",
   "version": "3.8.4"
  }
 },
 "nbformat": 4,
 "nbformat_minor": 2
}
