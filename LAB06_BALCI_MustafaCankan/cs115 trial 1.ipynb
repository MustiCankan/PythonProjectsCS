{
 "cells": [
  {
   "cell_type": "markdown",
   "metadata": {},
   "source": [
    "<h1>First Exercise Trials<h1>"
   ]
  },
  {
   "cell_type": "markdown",
   "metadata": {},
   "source": [
    "### Write a program that converts 400 kelvin to celcius and the display the formatted result"
   ]
  },
  {
   "cell_type": "code",
   "execution_count": 1,
   "metadata": {},
   "outputs": [
    {
     "name": "stdout",
     "output_type": "stream",
     "text": [
      "The formatted result is 127℃\n"
     ]
    }
   ],
   "source": [
    "kelvin_degree = 400\n",
    "\n",
    "celcius_degree = kelvin_degree - 273\n",
    "\n",
    "print(f'The formatted result is{celcius_degree: 3d}℃')"
   ]
  },
  {
   "cell_type": "markdown",
   "metadata": {},
   "source": [
    "### Write a program that finds the area and the perimeter of a circle with the radius 1.5cm and the display the result. You can assume that pi is the constant value 3.14"
   ]
  },
  {
   "cell_type": "code",
   "execution_count": 2,
   "metadata": {},
   "outputs": [
    {
     "name": "stdout",
     "output_type": "stream",
     "text": [
      " The area of the cirle is 7.07. The perimeter of the circle is 9.42. \n"
     ]
    }
   ],
   "source": [
    "pi = 3.14\n",
    "radius = 1.5 \n",
    "\n",
    "area = (radius ** 2) * pi\n",
    "perimeter = 2 * radius * pi\n",
    "\n",
    "print(f' The area of the cirle is {area:3.2f}. The perimeter of the circle is {perimeter:3.2f}. ')"
   ]
  },
  {
   "cell_type": "markdown",
   "metadata": {},
   "source": [
    "### Write a program that finds the sum of the first and last digit of some 4-digit number"
   ]
  },
  {
   "cell_type": "code",
   "execution_count": 3,
   "metadata": {},
   "outputs": [
    {
     "name": "stdout",
     "output_type": "stream",
     "text": [
      "The sum of the first and last digit of 4985 is 9.\n"
     ]
    }
   ],
   "source": [
    "num = 4985\n",
    "\n",
    "# division result in integer\n",
    "first_digit = num // 1000\n",
    "#reminder of division \n",
    "last_digit = num % 10\n",
    "\n",
    "total = first_digit + last_digit\n",
    "\n",
    "print(f'The sum of the first and last digit of {num:4d} is {total:d}.')"
   ]
  },
  {
   "cell_type": "markdown",
   "metadata": {},
   "source": [
    "### Write a program to calculate the number of hours and minutes needed for a car to travel 500 kilometers at the velocity 110 km/h "
   ]
  },
  {
   "cell_type": "code",
   "execution_count": 4,
   "metadata": {},
   "outputs": [
    {
     "name": "stdout",
     "output_type": "stream",
     "text": [
      "The car can travel 500 km in 4.545 hours or 272.727 minutes.\n"
     ]
    }
   ],
   "source": [
    "distance = 500 \n",
    "velocity_hours = 110 \n",
    "\n",
    "hours = 500 / 110\n",
    "minutes = hours * 60\n",
    "\n",
    "print(f'The car can travel {distance:3d} km in {hours:4.3f} hours or {minutes:.3f} minutes.')"
   ]
  },
  {
   "cell_type": "markdown",
   "metadata": {},
   "source": [
    "## Class Application "
   ]
  },
  {
   "cell_type": "code",
   "execution_count": 5,
   "metadata": {},
   "outputs": [
    {
     "ename": "ValueError",
     "evalue": "could not convert string to float: ",
     "output_type": "error",
     "traceback": [
      "\u001b[0;31m---------------------------------------------------------------------------\u001b[0m",
      "\u001b[0;31mValueError\u001b[0m                                Traceback (most recent call last)",
      "\u001b[0;32m/var/folders/_m/6vg66kp157b4gl_s13bxmw280000gn/T/ipykernel_2894/1328658531.py\u001b[0m in \u001b[0;36m<module>\u001b[0;34m\u001b[0m\n\u001b[0;32m----> 1\u001b[0;31m \u001b[0mhourly_wage\u001b[0m \u001b[0;34m=\u001b[0m \u001b[0mfloat\u001b[0m\u001b[0;34m(\u001b[0m\u001b[0minput\u001b[0m\u001b[0;34m(\u001b[0m\u001b[0;34m'Enter your hourly wage: '\u001b[0m\u001b[0;34m)\u001b[0m\u001b[0;34m)\u001b[0m\u001b[0;34m\u001b[0m\u001b[0;34m\u001b[0m\u001b[0m\n\u001b[0m\u001b[1;32m      2\u001b[0m \u001b[0;34m\u001b[0m\u001b[0m\n\u001b[1;32m      3\u001b[0m \u001b[0mhours\u001b[0m \u001b[0;34m=\u001b[0m \u001b[0mint\u001b[0m\u001b[0;34m(\u001b[0m\u001b[0minput\u001b[0m\u001b[0;34m(\u001b[0m\u001b[0;34m'How many hours you worked? '\u001b[0m\u001b[0;34m)\u001b[0m\u001b[0;34m)\u001b[0m\u001b[0;34m\u001b[0m\u001b[0;34m\u001b[0m\u001b[0m\n\u001b[1;32m      4\u001b[0m \u001b[0;34m\u001b[0m\u001b[0m\n\u001b[1;32m      5\u001b[0m \u001b[0;32mif\u001b[0m \u001b[0mhours\u001b[0m \u001b[0;34m<=\u001b[0m \u001b[0;36m40\u001b[0m\u001b[0;34m:\u001b[0m\u001b[0;34m\u001b[0m\u001b[0;34m\u001b[0m\u001b[0m\n",
      "\u001b[0;31mValueError\u001b[0m: could not convert string to float: "
     ]
    }
   ],
   "source": [
    "hourly_wage = float(input('Enter your hourly wage: '))\n",
    "\n",
    "hours = int(input('How many hours you worked? '))\n",
    "\n",
    "if hours <= 40:\n",
    "    salary = hourly_wage * hours\n",
    "    print(f'You worked {hours:d} hours for {hourly_wage: .2f} per hour, so you earned {salary: .2f}$')\n",
    "else:\n",
    "    salary = 40 * hourly_wage + (hours - 40) * 1.5 * hourly_wage\n",
    "    print(f'You worked {hours:d} hours for{hourly_wage: .2f} per hour, so you earned{salary: .2f}$')\n"
   ]
  },
  {
   "cell_type": "markdown",
   "metadata": {},
   "source": [
    "### String Vibes"
   ]
  },
  {
   "cell_type": "code",
   "execution_count": null,
   "metadata": {},
   "outputs": [
    {
     "data": {
      "text/plain": [
       "6"
      ]
     },
     "execution_count": 33,
     "metadata": {},
     "output_type": "execute_result"
    }
   ],
   "source": [
    "name = 'Zeynep'\n",
    "\n",
    "# Length of String \n",
    "len(name)"
   ]
  },
  {
   "cell_type": "code",
   "execution_count": null,
   "metadata": {},
   "outputs": [
    {
     "name": "stdout",
     "output_type": "stream",
     "text": [
      "Z\n",
      "e\n",
      "y\n",
      "n\n",
      "e\n",
      "p\n"
     ]
    }
   ],
   "source": [
    "print(name[0])\n",
    "print(name[1])\n",
    "print(name[2])\n",
    "print(name[3])\n",
    "print(name[4])\n",
    "print(name[5])\n"
   ]
  },
  {
   "cell_type": "code",
   "execution_count": null,
   "metadata": {},
   "outputs": [
    {
     "name": "stdout",
     "output_type": "stream",
     "text": [
      "p\n",
      "e\n",
      "n\n",
      "y\n",
      "e\n",
      "Z\n"
     ]
    }
   ],
   "source": [
    "print(name[-1])\n",
    "print(name[-2])\n",
    "print(name[-3])\n",
    "print(name[-4])\n",
    "print(name[-5])\n",
    "print(name[-6])"
   ]
  },
  {
   "cell_type": "code",
   "execution_count": null,
   "metadata": {},
   "outputs": [
    {
     "name": "stdout",
     "output_type": "stream",
     "text": [
      "Zye\n",
      "ZeynepZeynepZeynep\n"
     ]
    }
   ],
   "source": [
    "print(name[0:6:2])\n",
    "\n",
    "print(name * 3)"
   ]
  },
  {
   "cell_type": "markdown",
   "metadata": {},
   "source": [
    "<h1> Second Exercise Trials<h1>"
   ]
  },
  {
   "cell_type": "markdown",
   "metadata": {},
   "source": [
    "### Input a number from the user, and output'[number]' is divisable by 5 or 7 if the number is divisible by 5 or 7. "
   ]
  },
  {
   "cell_type": "code",
   "execution_count": null,
   "metadata": {},
   "outputs": [
    {
     "name": "stdout",
     "output_type": "stream",
     "text": [
      " The number can not divisiable by 5 or 7\n"
     ]
    }
   ],
   "source": [
    "num = float(input('Enter a number:'))\n",
    "\n",
    "if num % 5 == 0 or num % 7 == 0:\n",
    "    print(num , 'is divisiable by 5 or 7 ')\n",
    "else:\n",
    "    print(' The number can not divisiable by 5 or 7')\n",
    "\n"
   ]
  },
  {
   "cell_type": "markdown",
   "metadata": {},
   "source": [
    "### Write a Python Program that initializes a number between 1-9 and prompts the user to guess the number. If the user guesses incorrectly display the message, \"Wrong Guess!\", on sucessful guess , user will see a \"Well guessed!\" message"
   ]
  },
  {
   "cell_type": "code",
   "execution_count": null,
   "metadata": {},
   "outputs": [
    {
     "name": "stdout",
     "output_type": "stream",
     "text": [
      "Wrong Guess\n"
     ]
    }
   ],
   "source": [
    "import random \n",
    "\n",
    "guessing_number = random.randint(1,9)\n",
    "\n",
    "user_guess = int(input('Enter a number between 1-9 for your guess'))\n",
    "\n",
    "if user_guess> 10 or user_guess <= 0 :\n",
    "    print('Invalid number! You are out of the game')\n",
    "elif user_guess == guessing_number:\n",
    "    print('Well Guess!')\n",
    "else:\n",
    "    print('Wrong Guess')"
   ]
  },
  {
   "cell_type": "markdown",
   "metadata": {},
   "source": [
    " ### Input a word and give an appropriate message if the word has the same letter at the beginning and the end of the word or not."
   ]
  },
  {
   "cell_type": "code",
   "execution_count": null,
   "metadata": {},
   "outputs": [
    {
     "name": "stdout",
     "output_type": "stream",
     "text": [
      " Bu seni alakadar etmez \n"
     ]
    }
   ],
   "source": [
    "word = input('Enter one word: ')\n",
    "\n",
    "if word[0].lower == word[-1].lower:\n",
    "    print('\"' + word + '\"' + 'has same letter at the beginning and the end of the word' )\n",
    "else: \n",
    "    print(' Bu seni alakadar etmez ')"
   ]
  },
  {
   "cell_type": "markdown",
   "metadata": {},
   "source": [
    "### Input a user's height(in metres) and weight (in kgs) and calculate his/her BMI and output the BMI category according the following."
   ]
  },
  {
   "cell_type": "code",
   "execution_count": null,
   "metadata": {},
   "outputs": [
    {
     "name": "stdout",
     "output_type": "stream",
     "text": [
      "Obese\n"
     ]
    }
   ],
   "source": [
    "height_user = float(input('Height of user in meter:'))\n",
    "weight_user = float(input('Weight of user in kg:'))\n",
    "\n",
    "bmi = weight_user/(height_user ** 2)\n",
    "\n",
    "if bmi >= 30:\n",
    "    print('Obese')\n",
    "elif bmi >= 25:\n",
    "    print('Overweight')\n",
    "elif bmi >= 20:\n",
    "    print('Normal')\n",
    "else:\n",
    "    print('Underweight')"
   ]
  },
  {
   "cell_type": "markdown",
   "metadata": {},
   "source": [
    "<h1>While Loop Example<h1>"
   ]
  },
  {
   "cell_type": "markdown",
   "metadata": {},
   "source": [
    "### Write a Python script that does the following. Assume you deposit 100000TL into a bank account, output the number of years it takes to double the orginial investment, assuming a yearly interest rate of 15%."
   ]
  },
  {
   "cell_type": "code",
   "execution_count": null,
   "metadata": {},
   "outputs": [
    {
     "name": "stdout",
     "output_type": "stream",
     "text": [
      "Your money reach 201135.72 which nearly doubled in 5 years\n"
     ]
    }
   ],
   "source": [
    "your_stock = 100000\n",
    "yearly_interest_rate = 1.15\n",
    "year_count = 0\n",
    "\n",
    "\n",
    "while your_stock <= 200000:\n",
    "    your_stock = your_stock * yearly_interest_rate\n",
    "    year_count += 1\n",
    "\n",
    "\n",
    "\n",
    "print(f'Your money reach {your_stock:.2f} which nearly doubled in {year_count:d} years')"
   ]
  },
  {
   "cell_type": "markdown",
   "metadata": {},
   "source": [
    "### In a biogoly experiment a microorganism population doubles every 10 hours. write a Python program to input the initail number of microorganisms and output how long(days and remaining hours) it will take to have more than 1000000 organisms."
   ]
  },
  {
   "cell_type": "code",
   "execution_count": null,
   "metadata": {},
   "outputs": [
    {
     "name": "stdout",
     "output_type": "stream",
     "text": [
      "The microorganism population is 1048576 at 8.3 days and 8 hours\n"
     ]
    }
   ],
   "source": [
    "number_microorganism = 1\n",
    "hours = 10\n",
    "total_hours = 0\n",
    "\n",
    "while number_microorganism < 1000000:\n",
    "    total_hours += hours\n",
    "    number_microorganism = number_microorganism * 2\n",
    "\n",
    "reminder_hours = total_hours % 24\n",
    "days = total_hours / 24\n",
    "\n",
    "print(f'The microorganism population is{number_microorganism:8d} at {days:.1f} days and {reminder_hours:d} hours')"
   ]
  },
  {
   "cell_type": "markdown",
   "metadata": {},
   "source": [
    "### Write a Python script that inputs positive integers until a negative value is input. The program should output the average of the values input."
   ]
  },
  {
   "cell_type": "code",
   "execution_count": null,
   "metadata": {},
   "outputs": [
    {
     "name": "stdout",
     "output_type": "stream",
     "text": [
      "The average is 2.0\n",
      "3\n"
     ]
    }
   ],
   "source": [
    "value_enter = int(input('Please enter positive integer number :'))\n",
    "summ = 0\n",
    "loop_count = 0\n",
    "\n",
    "while value_enter > 0:\n",
    "    summ = value_enter + summ\n",
    "    loop_count += 1\n",
    "    value_enter = int(input('Please enter integer number :'))\n",
    "\n",
    "if loop_count == 0:\n",
    "    print(' The average is ', value_enter)\n",
    "else:\n",
    "    avg = summ/loop_count\n",
    "    print('The average is',avg)\n",
    "    print(loop_count)"
   ]
  },
  {
   "cell_type": "markdown",
   "metadata": {},
   "source": [
    "### Write a Python guessing game program. The program should generate a random int between 1 and 10. The user will try to guess the number until he/she finds it. The program should output the number of guesses made."
   ]
  },
  {
   "cell_type": "code",
   "execution_count": null,
   "metadata": {},
   "outputs": [
    {
     "name": "stdout",
     "output_type": "stream",
     "text": [
      "Wrong Guess!\n",
      "Wrong Guess!\n",
      "Wrong Guess!\n",
      "Wrong Guess!\n",
      "Wrong Guess!\n",
      "Well Done! You found the number in 6 trials\n"
     ]
    }
   ],
   "source": [
    "import random\n",
    "\n",
    "random_numerator = random.randint(1,9)\n",
    "\n",
    "user_guess_number = int(input('Enter a number between 1-9 for your guess:'))\n",
    "\n",
    "count = 1\n",
    "while user_guess_number != random_numerator:\n",
    "    print('Wrong Guess!')\n",
    "    count += 1\n",
    "    user_guess_number = int(input('Enter a number between 1-9 for your guess:'))\n",
    "print('Well Done! You found the number in',count,'trials.')"
   ]
  },
  {
   "cell_type": "markdown",
   "metadata": {},
   "source": [
    "<h1>For Loop Examples<h1>"
   ]
  },
  {
   "cell_type": "markdown",
   "metadata": {},
   "source": [
    "### Write a python program to input the status(F-Full-time, P-Part-time) and the salary of 10 instructors and output\n",
    "### the number of fulltime instructors\n",
    "### the average salary of all instructors"
   ]
  },
  {
   "cell_type": "code",
   "execution_count": null,
   "metadata": {},
   "outputs": [
    {
     "name": "stdout",
     "output_type": "stream",
     "text": [
      "There are 10 instructors in the workplace. There are 7 full time workers. The average salary is 567.5\n"
     ]
    }
   ],
   "source": [
    "counter_full_time = 0\n",
    "total_counter = 0\n",
    "sum_salary = 0\n",
    "\n",
    "for i in range(1,11):\n",
    "    working_status = input('If you are full time worker, please enter F. However, enter P if you are part-time worker:')\n",
    "    if working_status == 'F':\n",
    "        counter_full_time += 1\n",
    "        Salary = int(input('Please enter your salary: '))\n",
    "        total_counter += 1\n",
    "        sum_salary += salary\n",
    "    elif working_status == 'P':\n",
    "        salary = int(input('Please enter your salary: '))\n",
    "        total_counter += 1\n",
    "        sum_salary += salary\n",
    "\n",
    "average = sum_salary / total_counter\n",
    "print('There are 10 instructors in the workplace. There are', counter_full_time,'full time workers.','The average salary is', average,'.') "
   ]
  },
  {
   "cell_type": "markdown",
   "metadata": {},
   "source": [
    "### Write a Python program to input 12 temperature values(one for each month) and display the number of the month with the highest temperature."
   ]
  },
  {
   "cell_type": "code",
   "execution_count": null,
   "metadata": {},
   "outputs": [
    {
     "name": "stdout",
     "output_type": "stream",
     "text": [
      " The highest temperature is  342 at 8 month\n"
     ]
    }
   ],
   "source": [
    "max_temperature = 0\n",
    "month_number = 0\n",
    "temp = 0\n",
    "for i in range(1, 13):\n",
    "    temp = int(input(f'Enter the degree of month {i:d}'))\n",
    "    if i == 1:\n",
    "        max_temperature = temp\n",
    "        month_number = i\n",
    "    elif temp > max_temperature:\n",
    "        max_temperature = temp\n",
    "        month_number = i\n",
    "print(' The highest temperature is',max_temperature,'at',month_number,'month')\n",
    "\n"
   ]
  },
  {
   "cell_type": "markdown",
   "metadata": {},
   "source": [
    "### Write a Python guessing game program. The program should generate a random int between 1 and 10. The user has 3 guesses to guess correctly. The program should output an appropriate message if the user guesses coreectly/does not correctly."
   ]
  },
  {
   "cell_type": "code",
   "execution_count": null,
   "metadata": {},
   "outputs": [
    {
     "name": "stdout",
     "output_type": "stream",
     "text": [
      "Well done! You find the number in 1 trial\n"
     ]
    }
   ],
   "source": [
    "import random\n",
    "\n",
    "guessing_number = random.randint(1,9)\n",
    "checker = False\n",
    "for i in range(1,4):\n",
    "    prediction_number = int(input('Guess the number between 1 and 9: '))\n",
    "\n",
    "    if prediction_number == guessing_number:\n",
    "        print('Well done! You find the number in', i, 'trial. ')\n",
    "        checker = False \n",
    "        break\n",
    "    else:\n",
    "        print('Wrong Guess! You have', 3-i, 'guess left.')\n",
    "        checker = True\n",
    "\n",
    "if checker == True:\n",
    "    print('Game Over! Actual number is',guessing_number,'. Please try again')\n",
    "\n"
   ]
  },
  {
   "cell_type": "markdown",
   "metadata": {},
   "source": [
    "### Notes form keynote"
   ]
  },
  {
   "cell_type": "code",
   "execution_count": null,
   "metadata": {},
   "outputs": [
    {
     "name": "stdout",
     "output_type": "stream",
     "text": [
      "a\n",
      "There is a or u\n",
      "b\n",
      "c\n",
      "d\n",
      "e\n",
      "f\n",
      "g\n"
     ]
    }
   ],
   "source": [
    "wordl = 'abcdefg'\n",
    "\n",
    "for i in wordl:\n",
    "    print(i)\n",
    "    if i == 'u' or i == 'a' :\n",
    "        print('There is a or u' )"
   ]
  },
  {
   "cell_type": "markdown",
   "metadata": {},
   "source": [
    "<h1>Nested Loops<h1>"
   ]
  },
  {
   "cell_type": "markdown",
   "metadata": {},
   "source": [
    "### Triangle Stars"
   ]
  },
  {
   "cell_type": "code",
   "execution_count": 41,
   "metadata": {},
   "outputs": [
    {
     "name": "stdout",
     "output_type": "stream",
     "text": [
      "* \n",
      "* * \n",
      "* * * \n",
      "* * * * \n",
      "* * * * * \n",
      "* * * * * * \n",
      "* * * * * * * \n",
      "* * * * * * * * \n",
      "* * * * * * * * * \n",
      "* * * * * * * * * * \n"
     ]
    }
   ],
   "source": [
    "lines_input = int(input('Number of lines: '))\n",
    "\n",
    "for i in range(1,(lines_input+1)):\n",
    "    for j in range(1,(i +1)):\n",
    "        print(\"*\", end=' ')\n",
    "    print()"
   ]
  },
  {
   "cell_type": "markdown",
   "metadata": {},
   "source": [
    "### Multipication Table "
   ]
  },
  {
   "cell_type": "code",
   "execution_count": 31,
   "metadata": {},
   "outputs": [
    {
     "name": "stdout",
     "output_type": "stream",
     "text": [
      "\t\t Multiplication Table\n",
      "\t1    2    3    4    5    6    7    8    9    \n",
      "------------------------------------------------------\n",
      "1|\t1    2    3    4    5    6    7    8    9  \n",
      "2|\t2    4    6    8   10   12   14   16   18  \n",
      "3|\t3    6    9   12   15   18   21   24   27  \n",
      "4|\t4    8   12   16   20   24   28   32   36  \n",
      "5|\t5   10   15   20   25   30   35   40   45  \n",
      "6|\t6   12   18   24   30   36   42   48   54  \n",
      "7|\t7   14   21   28   35   42   49   56   63  \n",
      "8|\t8   16   24   32   40   48   56   64   72  \n",
      "9|\t9   18   27   36   45   54   63   72   81  \n"
     ]
    }
   ],
   "source": [
    "print('\\t\\t Multiplication Table')\n",
    "\n",
    "for i in range(1,10):\n",
    "    if i == 1:\n",
    "        print('\\t' + str(i), end='    ')\n",
    "    else:\n",
    "        print(i, end='    ')\n",
    "print('')\n",
    "\n",
    "print('------------------------------------------------------')\n",
    "\n",
    "for j in range(1,10):\n",
    "    print(str(j)+'|', end='')\n",
    "    for k in range(1,10):\n",
    "        result = k * j \n",
    "        if k == 1:\n",
    "            print('\\t' + str(result), end='  ')\n",
    "        else:\n",
    "            print(f'{result: 3d}', end='  ')\n",
    "    print('')"
   ]
  },
  {
   "cell_type": "markdown",
   "metadata": {},
   "source": [
    "### Starts 2"
   ]
  },
  {
   "cell_type": "code",
   "execution_count": 69,
   "metadata": {},
   "outputs": [
    {
     "name": "stdout",
     "output_type": "stream",
     "text": [
      "\t\n",
      "                   \t\n",
      "              *    \t\n",
      "             ***    \t\n",
      "            *****    \t\n",
      "           *******    \t\n",
      "          *********    \t\n",
      "         ***********    \t\n",
      "        *************    \t\n",
      "       ***************    \t\n",
      "      *****************    \t\n",
      "     *******************    \t\n",
      "    *********************    \t\n",
      "   ***********************    \t\n",
      "  *************************    \t\n",
      " ***************************    \n"
     ]
    }
   ],
   "source": [
    "number_lines = int(input('Enter number of lines for showing pascal trianangle:'))\n",
    "\n",
    "\n",
    "for i in range(0,number_lines):\n",
    "    number_of_star = (2 * i) - 1\n",
    "    print('\\t')\n",
    "    print( ' ' * (number_lines - i )+'*'* number_of_star, end='    ')\n",
    "\n",
    "print('')"
   ]
  },
  {
   "cell_type": "markdown",
   "metadata": {},
   "source": [
    "<h1>Exhaustive Enumeration<h1>"
   ]
  },
  {
   "cell_type": "markdown",
   "metadata": {},
   "source": [
    "### Exhaustive enumeration is a search technique that works only if the set of values being searched includes the anwser. "
   ]
  },
  {
   "cell_type": "code",
   "execution_count": 1,
   "metadata": {},
   "outputs": [
    {
     "name": "stdout",
     "output_type": "stream",
     "text": [
      "3 is not a perfect cube\n"
     ]
    }
   ],
   "source": [
    "#Find the cube root of a perfect cube \n",
    "\n",
    "x = int(input(' Enter an integer: '))\n",
    "ans = 0\n",
    "while ans ** 3 < abs(x):\n",
    "    ans = ans + 1 \n",
    "\n",
    "if ans**3 != abs(x):\n",
    "    print(x, 'is not a perfect cube')\n",
    "else: \n",
    "    if x < 0:\n",
    "        ans = -ans\n",
    "    print('Cube root of',x, 'is', ans)"
   ]
  },
  {
   "cell_type": "markdown",
   "metadata": {},
   "source": [
    "<h1>Approximate Solution<h1>"
   ]
  },
  {
   "cell_type": "code",
   "execution_count": 10,
   "metadata": {},
   "outputs": [
    {
     "name": "stdout",
     "output_type": "stream",
     "text": [
      "num_guesses - 29997\n"
     ]
    }
   ],
   "source": [
    "cube = 27 \n",
    "epsilon = 0.01\n",
    "guess = 0\n",
    "increment  = 0.0001\n",
    "num_guesses = 0\n",
    "while abs(guess**3 -cube) >= epsilon and guess <= cube:\n",
    "    guess += increment\n",
    "    num_guesses += 1\n",
    "print('num_guesses -', num_guesses )"
   ]
  },
  {
   "cell_type": "markdown",
   "metadata": {},
   "source": []
  },
  {
   "cell_type": "markdown",
   "metadata": {},
   "source": [
    "<h1> Function Examples <h1>"
   ]
  },
  {
   "cell_type": "markdown",
   "metadata": {},
   "source": [
    "### Write a function that returns the sum of the digits of a positive integer. Use this function to find the sum of digits of the positive numbers input by the user"
   ]
  },
  {
   "cell_type": "code",
   "execution_count": 11,
   "metadata": {},
   "outputs": [
    {
     "name": "stdout",
     "output_type": "stream",
     "text": [
      "Sum of digits of 345 is 12\n"
     ]
    }
   ],
   "source": [
    "# total_sum is local variable do not put in outside(it will become global)\n",
    "def sum_of_integer(val):\n",
    "    total_sum = 0\n",
    "\n",
    "    while val != 0:\n",
    "        last = val % 10\n",
    "        total_sum += last\n",
    "        val = val // 10\n",
    "    return total_sum\n",
    "\n",
    "# solution at string \n",
    "def sum_of_integer_solution_two(val):\n",
    "    total_sum = 0\n",
    "    val_str = str(val)\n",
    "\n",
    "    for c in val_str:\n",
    "        total_sum += int(c)\n",
    "\n",
    "    return total_sum\n",
    "\n",
    "\n",
    "number_input = int(input('Enter a positive (<= 0 will be error): '))\n",
    "\n",
    "while number_input > 0:\n",
    "    result = sum_of_integer(number_input)\n",
    "    result_soluiton_two = sum_of_integer_solution_two(number_input)\n",
    "    print('Sum of digits of',number_input,'is',result_soluiton_two)\n",
    "    number_input = int(input('Enter a positive (<= 0 will be error): '))\n"
   ]
  },
  {
   "cell_type": "markdown",
   "metadata": {},
   "source": [
    "### Write a function takes a number as a parameter and returns the reverse of the number"
   ]
  },
  {
   "cell_type": "code",
   "execution_count": 13,
   "metadata": {},
   "outputs": [
    {
     "name": "stdout",
     "output_type": "stream",
     "text": [
      "The reverse of  345 is 543\n",
      "The reverse of  9864 is 4689\n"
     ]
    }
   ],
   "source": [
    "def reverse_func(val):\n",
    "    rev = 0\n",
    "\n",
    "    while val != 0:\n",
    "        last = val % 10\n",
    "        rev = rev * 10 + last\n",
    "        val = val // 10\n",
    "    \n",
    "    return rev\n",
    "\n",
    "number_input_second = int(input('Enter a positive (<= 0 will be error): '))\n",
    "while number_input_second != 0:\n",
    "    result = reverse_func(number_input_second)\n",
    "    print(\"The reverse of \",number_input_second,'is',result)\n",
    "    number_input_second = int(input('Enter a positive (<= 0 will be error): '))\n"
   ]
  },
  {
   "cell_type": "markdown",
   "metadata": {},
   "source": [
    "### Write a function that converts a given string s of a binary number in base 2 to its decimal equivalent and returns the decimal value."
   ]
  },
  {
   "cell_type": "markdown",
   "metadata": {},
   "source": [
    "### First write a function, named is_binary, that takes a string parameter and returns True if the parameter string is a binary string with 0s and 1s(e.g., 101). False otherwise(e.g. 123)"
   ]
  },
  {
   "cell_type": "markdown",
   "metadata": {},
   "source": [
    "### Then, write a function, named convert_to_decimal, that takes a string paramter and uses your is_binary function to check if the paramter string is a binary number. If it is a binary number.If it is a binary,then your function converts it to its equivalent decimal.Else it displays an appropriate message to indicate that it is not a valid string for a binary number."
   ]
  },
  {
   "cell_type": "code",
   "execution_count": 33,
   "metadata": {},
   "outputs": [],
   "source": [
    "def is_binary(s):\n",
    "    for ch in s:\n",
    "        if ch != '0' and ch != '1':\n",
    "            return False\n",
    "        \n",
    "    return True\n",
    "\n",
    "def convert_to_decimal(num):\n",
    "    decimal = 0\n",
    "    power = 0\n",
    "    for ch in num[::-1]:\n",
    "        decimal += int(ch)* (2 ** power)\n",
    "        power += 1\n",
    "    return decimal\n",
    "\n",
    "binary_input = input('Enter binary: ')\n",
    "\n",
    "\n",
    "while binary_input:\n",
    "    if is_binary(binary_input):\n",
    "        result = convert_to_decimal(binary_input)\n",
    "        print(result)\n",
    "    else:\n",
    "        print('invaild value')\n",
    "    binary_input = input('Enter binary: ')\n"
   ]
  },
  {
   "cell_type": "markdown",
   "metadata": {},
   "source": [
    "### Revese a string"
   ]
  },
  {
   "cell_type": "code",
   "execution_count": 3,
   "metadata": {},
   "outputs": [
    {
     "name": "stdout",
     "output_type": "stream",
     "text": [
      "This is the palidrome string. What a luck\n",
      "anna\n",
      "This is the palidrome string. What a luck\n",
      "\n"
     ]
    }
   ],
   "source": [
    "def reverse_str(strk):\n",
    "    result  = ''\n",
    "    for ch in strk[::-1]:\n",
    "        result  += ch\n",
    "    if result == strk:\n",
    "        print('This is the palidrome string. What a luck!') \n",
    "    return result\n",
    "\n",
    "str_input = input('Enter a string for reverse : ' )\n",
    "while str_input !=  'quit' :\n",
    "    print(reverse_str(str_input))\n",
    "    str_input = input('Enter a string for reverse (if you want to quit, just write quit): ' )"
   ]
  },
  {
   "cell_type": "markdown",
   "metadata": {},
   "source": [
    "<h1>File Functions Questions<h1>"
   ]
  },
  {
   "cell_type": "markdown",
   "metadata": {},
   "source": [
    "### Write a program that reads hotel data from a file, and writes all hotels in the city by the user to a new file with the name <city>hotels.txt Note:you may assume that the city name is at the beginning of each line, and that the city is followed by a dash(-) then the hotel name."
   ]
  },
  {
   "cell_type": "code",
   "execution_count": 3,
   "metadata": {},
   "outputs": [],
   "source": [
    "def select(f1,f2,value):\n",
    "    for line in f1:\n",
    "        pos1 = line.lower().find(value.lower())\n",
    "        if pos1 == 0:# find the city beginning\n",
    "            pos2 = line.find('-')\n",
    "            f2.write(line[pos2 +1:])\n",
    "\n",
    "inp = open('05_hotels.txt','r')\n",
    "city = input('Enter city name: ')\n",
    "out = open(city.lower() + 'hotels.txt','w')\n",
    "\n",
    "select(inp,out, city)\n",
    "\n",
    "inp.close()\n",
    "out.close()\n"
   ]
  },
  {
   "cell_type": "markdown",
   "metadata": {},
   "source": [
    "### Write a program to input two sorted files containing the names of flowers and merges the two files in to a new sorted file."
   ]
  },
  {
   "cell_type": "code",
   "execution_count": 15,
   "metadata": {},
   "outputs": [],
   "source": [
    "def merge(f1,f2,merge_file):\n",
    "   v1 = f1.readline()\n",
    "   v2 = f2.readline()\n",
    "\n",
    "   \n",
    "   while v1 and v2:\n",
    "       if v1 > v2:\n",
    "           merge_file.write(v1)\n",
    "           v1 = f1.readline()\n",
    "       elif v2 > v1:\n",
    "            merge_file.write(v2)\n",
    "            v2 = f2.readline()\n",
    "   if f1:\n",
    "       merge_file.write(f1.read())\n",
    "   elif f2:\n",
    "       merge_file.write(f2.read())\n",
    "\n",
    "\n",
    "flower_one = open('05_flower1.txt','r')\n",
    "flower_two = open('05_flower2.txt','r')\n",
    "merge_list = open('05_flowermerge.txt','w')\n",
    "\n",
    "merge(flower_one,flower_two,merge_list)\n",
    "\n",
    "flower_one.close()\n",
    "flower_two.close()\n",
    "merge_list.close()"
   ]
  },
  {
   "cell_type": "markdown",
   "metadata": {},
   "source": [
    "### Write a program that reads two country data files, 05_worldpop.txt and 05_worldarea.txt. Both files contain the same countries in the same order. Wite a file world_pop_density.txt that contains country names and population densities(people per square)"
   ]
  },
  {
   "cell_type": "code",
   "execution_count": 55,
   "metadata": {},
   "outputs": [],
   "source": [
    "def just_function(f1,f2,f3):\n",
    "    pop = f1.readline()\n",
    "    area = f2.readline()\n",
    "\n",
    "    while pop and area:\n",
    "        pos = pop.find(' ')\n",
    "        country = pop[:pos]\n",
    "        population = float(pop[pos +1:])\n",
    "        area_country = float(area[pos +1:])\n",
    "        density = population / area_country\n",
    "        f3.write(country+ ' ' + f'{density:.3f} \\n')\n",
    "        pop = f1.readline()\n",
    "        area = f2.readline()\n",
    "    \n",
    "\n",
    "pop = open('05_worldpop.txt','r')\n",
    "area  = open('05_worldarea.txt','r')\n",
    "pop_density = open('world_pop_density.txt','w')\n",
    "\n",
    "just_function(pop,area,pop_density)\n",
    "\n",
    "pop.close()\n",
    "area.close()\n",
    "pop_density.close()"
   ]
  },
  {
   "cell_type": "markdown",
   "metadata": {},
   "source": [
    "<h1>Exercise with Tuples and Function<h1>"
   ]
  },
  {
   "cell_type": "markdown",
   "metadata": {},
   "source": [
    "### Write a function to find the intersection of two tuples"
   ]
  },
  {
   "cell_type": "code",
   "execution_count": null,
   "metadata": {},
   "outputs": [],
   "source": [
    "tuple1 = (1,2,3,4,5,6)\n",
    "tuple2 = (2,3,4,5,7)\n",
    "\n",
    "for i in tuple1:\n",
    "    for k in tuple2:\n",
    "        if i == k:\n",
    "            print(k)"
   ]
  },
  {
   "cell_type": "markdown",
   "metadata": {},
   "source": [
    "### Write a function to find the smallest common divisor greater than 1 and the largest common divisor of n1 and n2, assuming that n1 and n2 are positive integers. If no common divisor, return a tuple with two elements with the value(None,None)"
   ]
  },
  {
   "cell_type": "code",
   "execution_count": null,
   "metadata": {},
   "outputs": [],
   "source": []
  },
  {
   "cell_type": "markdown",
   "metadata": {},
   "source": [
    "### Homework: Write a function to find the union of two tuples"
   ]
  },
  {
   "cell_type": "code",
   "execution_count": null,
   "metadata": {},
   "outputs": [],
   "source": [
    "bin(01)"
   ]
  },
  {
   "cell_type": "markdown",
   "metadata": {},
   "source": [
    "<h1>Exercises with Lists<h1>"
   ]
  },
  {
   "cell_type": "markdown",
   "metadata": {},
   "source": [
    "### Input values until enters -1 ,and store in a list. Then input a limit and display the index of the first element in the list that exceeds the limit and remove that element."
   ]
  },
  {
   "cell_type": "code",
   "execution_count": null,
   "metadata": {},
   "outputs": [],
   "source": []
  },
  {
   "cell_type": "markdown",
   "metadata": {},
   "source": [
    "### Input 5 words from the user , and store in a list./starting from the end of the list, display all Strings that begin with an uppercase letter./Display the shortest word in the list"
   ]
  },
  {
   "cell_type": "code",
   "execution_count": 9,
   "metadata": {},
   "outputs": [
    {
     "name": "stdout",
     "output_type": "stream",
     "text": [
      "UpperCase Letter\n",
      "Yemek \n",
      "Ankara\n",
      "Çankaya\n",
      "Shortest Word\n",
      "baba\n"
     ]
    }
   ],
   "source": [
    "def find_uppercase_letter(wordList):\n",
    "    for i in wordList[::-1]:\n",
    "        if i != i.lower():\n",
    "            print(i)\n",
    "\n",
    "def shortest_word(wordlist):\n",
    "    temp = \"\"\n",
    "    for i in wordlist:\n",
    "        if temp == \"\":\n",
    "            temp = i\n",
    "        elif len(i) < len(temp):\n",
    "            temp = i\n",
    "    return temp\n",
    "\n",
    "\n",
    "word_list = []\n",
    "\n",
    "for i in range(5):\n",
    "    word = input(\"Enter a word: \")\n",
    "    word_list.append(word)\n",
    "print('UpperCase Letter')\n",
    "find_uppercase_letter(word_list)\n",
    "print('Shortest Word')\n",
    "print(shortest_word(word_list))\n",
    "\n",
    "\n"
   ]
  }
 ],
 "metadata": {
  "interpreter": {
   "hash": "aee8b7b246df8f9039afb4144a1f6fd8d2ca17a180786b69acc140d282b71a49"
  },
  "kernelspec": {
   "display_name": "Python 3.7.7 64-bit",
   "name": "python3"
  },
  "language_info": {
   "codemirror_mode": {
    "name": "ipython",
    "version": 3
   },
   "file_extension": ".py",
   "mimetype": "text/x-python",
   "name": "python",
   "nbconvert_exporter": "python",
   "pygments_lexer": "ipython3",
   "version": "3.7.7"
  }
 },
 "nbformat": 4,
 "nbformat_minor": 4
}
