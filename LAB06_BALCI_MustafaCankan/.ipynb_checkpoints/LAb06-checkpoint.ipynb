{
 "cells": [
  {
   "cell_type": "markdown",
   "metadata": {},
   "source": [
    "<h1>Lab 06<h1>"
   ]
  },
  {
   "cell_type": "markdown",
   "metadata": {},
   "source": [
    "### First Part"
   ]
  },
  {
   "cell_type": "code",
   "execution_count": 7,
   "metadata": {},
   "outputs": [
    {
     "name": "stdout",
     "output_type": "stream",
     "text": [
      "Sentence: Script should solve some \n"
     ]
    }
   ],
   "source": [
    "def formSentence(inList,searchChr):\n",
    "    \"\"\"\n",
    "    Checking all words rowwise in list and creating a str contains the first letter of word is same with searched character\n",
    "    \n",
    "    Parameters:\n",
    "    inList(list): the input list\n",
    "    searchChr(str): the value going to check \n",
    "    \n",
    "    \n",
    "    returns:\n",
    "    String : return rev\n",
    "    \n",
    "    \"\"\"\n",
    "    res = \"\"\n",
    "    for i in inList:\n",
    "        for j in i:\n",
    "            if j[0].lower() == searchChr.lower():\n",
    "                res += j+' '\n",
    "    return res \n",
    "        \n",
    "inList = [['This','is','lab','Script'],['We','should','finish','it'],['we','solve','some','questions']]\n",
    "print(f'Sentence: {formSentence(inList,\"s\")}')"
   ]
  },
  {
   "cell_type": "markdown",
   "metadata": {},
   "source": [
    "### Second Part"
   ]
  },
  {
   "cell_type": "markdown",
   "metadata": {},
   "source": [
    "### First Section"
   ]
  },
  {
   "cell_type": "code",
   "execution_count": 38,
   "metadata": {},
   "outputs": [
    {
     "name": "stdout",
     "output_type": "stream",
     "text": [
      "F\n"
     ]
    }
   ],
   "source": [
    "class Instructor():\n",
    "    def __init__(self,id_num ,name, surname,status,hours):\n",
    "        self.__id_num = id_num\n",
    "        self.__name = name\n",
    "        self.__surname = surname\n",
    "        self.__status = status\n",
    "        self.__hours = hours\n",
    "        \n",
    "    def get_id(self):\n",
    "        \"\"\"\n",
    "    \n",
    "        Parameters:\n",
    "    \n",
    "    \n",
    "        returns:\n",
    "    \n",
    "    \n",
    "        \"\"\"\n",
    "        return self.__id_num\n",
    "    \n",
    "    def get_name(self):\n",
    "        \"\"\"\n",
    "    \n",
    "        Parameters:\n",
    "    \n",
    "    \n",
    "        returns:\n",
    "    \n",
    "    \n",
    "        \"\"\"\n",
    "        return self.__name\n",
    "    \n",
    "    def get_status(self):\n",
    "        \"\"\"\n",
    "    \n",
    "        Parameters:\n",
    "    \n",
    "    \n",
    "        returns:\n",
    "    \n",
    "    \n",
    "        \"\"\"\n",
    "        return self.__status\n",
    "    \n",
    "    def get_hours(self):\n",
    "        \"\"\"\n",
    "    \n",
    "        Parameters:\n",
    "    \n",
    "    \n",
    "        returns:\n",
    "    \n",
    "    \n",
    "        \"\"\"\n",
    "        return self.__hours\n",
    "    \n",
    "    \n",
    "    def calculate_salary(self):\n",
    "        \"\"\"\n",
    "    \n",
    "        Parameters:\n",
    "    \n",
    "    \n",
    "        returns:\n",
    "        integer: return salary\n",
    "    \n",
    "    \n",
    "        \"\"\"\n",
    "        if self.__status == 'F':\n",
    "            salary = 500*(self.__hours) +5000\n",
    "        elif self.__status == 'P':\n",
    "            salary = 400*(self.__hours)\n",
    "        return salary\n",
    "    \n",
    "    def __str__(self):\n",
    "        rev = \"Name:\"+self.__name +' '+self.__surname+'\\n'\n",
    "        rev += \"Status: \"+self.__status +'\\n'\n",
    "        rev += \"Salary: \"+str(self.calculate_salary()) +' TL'\n",
    "        return rev\n",
    "    \n",
    "    def __repr__(self):\n",
    "        rev = \"Id:\"+str(self.__id_num) + '\\n'\n",
    "        rev += \"Name:\"+self.__name +' '+self.__surname+'\\n'\n",
    "        rev += \"Salary: \"+str(self.calculate_salary()) +' TL'\n",
    "        return rev\n",
    "    \n",
    "p1 = Instructor(76321,'Fatih','Tekin','F',49.0)\n",
    "print(p1.get_status())"
   ]
  },
  {
   "cell_type": "markdown",
   "metadata": {},
   "source": [
    "### Second Section"
   ]
  },
  {
   "cell_type": "code",
   "execution_count": 42,
   "metadata": {},
   "outputs": [
    {
     "name": "stdout",
     "output_type": "stream",
     "text": [
      "Enter instructor id:7621\n",
      "Name:Fatih Tekin\n",
      "Status: F\n",
      "Salary: 13000.0 TL\n",
      "Enter status (F - Full-time/ P - Part-time}): P\n",
      "[Id:7623\n",
      "Name:Burcu Koksal\n",
      "Salary: 2400.0 TL, Id:8911\n",
      "Name:Fatos Gurun\n",
      "Salary: 1200.0 TL, Id:7833\n",
      "Name:Lale Balci\n",
      "Salary: 1600.0 TL]\n"
     ]
    }
   ],
   "source": [
    "def read_file(file_name):\n",
    "    \"\"\"\n",
    "    Converting the information at file to dictionary\n",
    "    \n",
    "    \n",
    "    Parameters:\n",
    "    file_name(str): file name \n",
    "    \n",
    "    \n",
    "    returns:\n",
    "    dictionary: return hs\n",
    "    \n",
    "    \n",
    "    \"\"\"\n",
    "    \n",
    "    hs = {}\n",
    "    \n",
    "    f1 = open(file_name,'r')\n",
    "    \n",
    "    for line in f1:\n",
    "        l = line.split(';')\n",
    "        pos = l[1].find(' ')\n",
    "        name = l[1][:pos]\n",
    "        surname = l[1][pos +1:]\n",
    "        hours = float(l[3])\n",
    "        id_num = int(l[0]) \n",
    "        hs[id_num] = Instructor(id_num,name, surname,l[2],hours)\n",
    "    return hs\n",
    "\n",
    "dict1 = read_file('instructor.txt') \n",
    "\n",
    "enter_id = int(input('Enter instructor id:'))\n",
    "print(dict1[enter_id].__str__())\n",
    "\n",
    "enter_status = input('Enter status (F - Full-time/ P - Part-time}): ')\n",
    "\n",
    "\n",
    "l = []\n",
    "for i in dict1:\n",
    "    if dict1[i].get_status() == enter_status:\n",
    "        l.append(dict1[i])\n",
    "            \n",
    "print(l)\n",
    "            \n",
    "    "
   ]
  },
  {
   "cell_type": "code",
   "execution_count": null,
   "metadata": {},
   "outputs": [],
   "source": [
    "\n"
   ]
  }
 ],
 "metadata": {
  "kernelspec": {
   "display_name": "Python 3",
   "language": "python",
   "name": "python3"
  },
  "language_info": {
   "codemirror_mode": {
    "name": "ipython",
    "version": 3
   },
   "file_extension": ".py",
   "mimetype": "text/x-python",
   "name": "python",
   "nbconvert_exporter": "python",
   "pygments_lexer": "ipython3",
   "version": "3.8.4"
  }
 },
 "nbformat": 4,
 "nbformat_minor": 4
}
